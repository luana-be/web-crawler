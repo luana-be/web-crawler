{
  "nbformat": 4,
  "nbformat_minor": 0,
  "metadata": {
    "colab": {
      "name": " web_crawler.ipynb",
      "provenance": [],
      "collapsed_sections": []
    },
    "kernelspec": {
      "name": "python3",
      "display_name": "Python 3"
    }
  },
  "cells": [
    {
      "cell_type": "markdown",
      "metadata": {
        "id": "ITm3FLwmqiD0"
      },
      "source": [
        "#Web Crawler\n",
        "\n",
        "Author: Luana Bezerra Batista\n",
        "\n",
        "Date: 10-07-2020\n",
        "\n",
        "This application uses the following technologies/libraries (among others):\n",
        "* Python, as programming language\n",
        "* Beautiful Soup, as HTML parser\n",
        "* concurrent.futures and multiprocessing, for parallel execution\n",
        "* Flask, as a micro web framework\n",
        "\n",
        "It implements almost all the [requirements](https://drive.google.com/file/d/1qOyuU69wUDDcjnUcdB6qjca10i9ZgDe7/view?usp=sharing), however, I had to make some choices that would lead to a \"quick\" implementation. \n",
        "\n",
        "Given that I was working at the same time that as I was implementing this solution (using my current employer resources -- oups! :), and because I wanted to deliver this solution in 1 week, I decided to skip the Docker part and use Colab instead.\n",
        "\n",
        "Please see my **comments** in each code cell.\n",
        "\n",
        "\n",
        "---\n",
        "\n"
      ]
    },
    {
      "cell_type": "markdown",
      "metadata": {
        "id": "dJZ3xAzdm6qH"
      },
      "source": [
        "In orther to run this application, go to the **Runtime** menu and select **Restart and run all**.\n",
        "\n",
        "When you reach the main function, please open a shell window and run **curl** commands using the ngrok http tunnel.\n",
        "\n",
        "\n",
        "---\n",
        "\n",
        "\n",
        "Available **curl** commands:\n",
        "\n",
        "```\n",
        "* Posting URLs using 1 single task:\n",
        " * curl -X POST http://b4098711e066.ngrok.io/1 -H \"Content-Type: application/json\" -d \"[\\\"http://4chan.org/\\\", \\\"https://golang.org/\\\"]\"\n",
        "\n",
        "* Posting URLs using 2 paralell tasks (you can use one task per URL):\n",
        " * curl -X POST http://b4098711e066.ngrok.io/2 -H \"Content-Type: application/json\" -d \"[\\\"http://4chan.org/\\\", \\\"https://golang.org/\\\"]\"\n",
        "\n",
        "* Getting the status of a task:\n",
        " * curl -X GET http://96ef6a5a14e0.ngrok.io/status/c426926b-64df-4417-8cb8-59f719c41ef1\n",
        "\n",
        "* Getting the result of a task:\n",
        " * curl -X GET http://96ef6a5a14e0.ngrok.io/result/c426926b-64df-4417-8cb8-59f719c41ef1\n",
        "```\n",
        "\n",
        "Note that the ngrok tunnel changes at every execution. You'll find the right address in the last cell of this file, just after http://127.0.0.1\n",
        "\n",
        "---\n",
        "\n"
      ]
    },
    {
      "cell_type": "markdown",
      "metadata": {
        "id": "rzFIjUiF1-Zt"
      },
      "source": [
        "References: \n",
        "* https://www.crummy.com/software/BeautifulSoup/bs4/doc/\n",
        "* https://pymotw.com/3/concurrent.futures/\n",
        "* https://docs.python.org/3/library/concurrent.futures.html\n",
        "* https://stackoverflow.com/questions/62130227/how-do-i-get-child-process-pids-when-using-processpoolexecuter\n",
        "* https://www.thepythoncode.com/article/download-web-page-images-python \n",
        "* https://beckernick.github.io/faster-web-scraping-python/\n",
        "* https://blog.miguelgrinberg.com/post/designing-a-restful-api-with-python-and-flask\n",
        "* https://pypi.org/project/Flask-UUID/"
      ]
    },
    {
      "cell_type": "code",
      "metadata": {
        "id": "po3ftUxnFoFB",
        "outputId": "402808f2-ded6-43ee-fe99-813db8797d7d",
        "colab": {
          "base_uri": "https://localhost:8080/"
        }
      },
      "source": [
        "pip install requests bs4 urllib3 futures jsonlib-python3 uuid queuelib flask Flask-UUID"
      ],
      "execution_count": 1,
      "outputs": [
        {
          "output_type": "stream",
          "text": [
            "Requirement already satisfied: requests in /usr/local/lib/python3.6/dist-packages (2.23.0)\n",
            "Requirement already satisfied: bs4 in /usr/local/lib/python3.6/dist-packages (0.0.1)\n",
            "Requirement already satisfied: urllib3 in /usr/local/lib/python3.6/dist-packages (1.24.3)\n",
            "Requirement already satisfied: futures in /usr/local/lib/python3.6/dist-packages (3.1.1)\n",
            "Requirement already satisfied: jsonlib-python3 in /usr/local/lib/python3.6/dist-packages (1.6.1)\n",
            "Requirement already satisfied: uuid in /usr/local/lib/python3.6/dist-packages (1.30)\n",
            "Requirement already satisfied: queuelib in /usr/local/lib/python3.6/dist-packages (1.5.0)\n",
            "Requirement already satisfied: flask in /usr/local/lib/python3.6/dist-packages (1.1.2)\n",
            "Requirement already satisfied: Flask-UUID in /usr/local/lib/python3.6/dist-packages (0.2)\n",
            "Requirement already satisfied: chardet<4,>=3.0.2 in /usr/local/lib/python3.6/dist-packages (from requests) (3.0.4)\n",
            "Requirement already satisfied: certifi>=2017.4.17 in /usr/local/lib/python3.6/dist-packages (from requests) (2020.6.20)\n",
            "Requirement already satisfied: idna<3,>=2.5 in /usr/local/lib/python3.6/dist-packages (from requests) (2.10)\n",
            "Requirement already satisfied: beautifulsoup4 in /usr/local/lib/python3.6/dist-packages (from bs4) (4.6.3)\n",
            "Requirement already satisfied: itsdangerous>=0.24 in /usr/local/lib/python3.6/dist-packages (from flask) (1.1.0)\n",
            "Requirement already satisfied: Jinja2>=2.10.1 in /usr/local/lib/python3.6/dist-packages (from flask) (2.11.2)\n",
            "Requirement already satisfied: Werkzeug>=0.15 in /usr/local/lib/python3.6/dist-packages (from flask) (1.0.1)\n",
            "Requirement already satisfied: click>=5.1 in /usr/local/lib/python3.6/dist-packages (from flask) (7.1.2)\n",
            "Requirement already satisfied: MarkupSafe>=0.23 in /usr/local/lib/python3.6/dist-packages (from Jinja2>=2.10.1->flask) (1.1.1)\n"
          ],
          "name": "stdout"
        }
      ]
    },
    {
      "cell_type": "code",
      "metadata": {
        "id": "W820fM2o64Ro"
      },
      "source": [
        "import concurrent.futures\n",
        "import requests\n",
        "from urllib.parse import urljoin\n",
        "from bs4 import BeautifulSoup\n",
        "import os\n",
        "import json\n",
        "import uuid\n",
        "import multiprocessing\n",
        "import queue\n",
        "import sys\n",
        "from flask import Flask, jsonify, make_response, abort, request\n",
        "from flask_uuid import FlaskUUID"
      ],
      "execution_count": 2,
      "outputs": []
    },
    {
      "cell_type": "code",
      "metadata": {
        "id": "GUoqtiyntQTd",
        "outputId": "24cd958d-9ed2-4fb9-f613-410bfd4b28bc",
        "colab": {
          "base_uri": "https://localhost:8080/"
        }
      },
      "source": [
        "#In order to make a Flask app running in Colab:\n",
        "#https://github.com/gstaff/flask-ngrok\n",
        "!pip install flask-ngrok\n",
        "from flask_ngrok import run_with_ngrok"
      ],
      "execution_count": 3,
      "outputs": [
        {
          "output_type": "stream",
          "text": [
            "Requirement already satisfied: flask-ngrok in /usr/local/lib/python3.6/dist-packages (0.0.25)\n",
            "Requirement already satisfied: requests in /usr/local/lib/python3.6/dist-packages (from flask-ngrok) (2.23.0)\n",
            "Requirement already satisfied: Flask>=0.8 in /usr/local/lib/python3.6/dist-packages (from flask-ngrok) (1.1.2)\n",
            "Requirement already satisfied: chardet<4,>=3.0.2 in /usr/local/lib/python3.6/dist-packages (from requests->flask-ngrok) (3.0.4)\n",
            "Requirement already satisfied: urllib3!=1.25.0,!=1.25.1,<1.26,>=1.21.1 in /usr/local/lib/python3.6/dist-packages (from requests->flask-ngrok) (1.24.3)\n",
            "Requirement already satisfied: certifi>=2017.4.17 in /usr/local/lib/python3.6/dist-packages (from requests->flask-ngrok) (2020.6.20)\n",
            "Requirement already satisfied: idna<3,>=2.5 in /usr/local/lib/python3.6/dist-packages (from requests->flask-ngrok) (2.10)\n",
            "Requirement already satisfied: Jinja2>=2.10.1 in /usr/local/lib/python3.6/dist-packages (from Flask>=0.8->flask-ngrok) (2.11.2)\n",
            "Requirement already satisfied: Werkzeug>=0.15 in /usr/local/lib/python3.6/dist-packages (from Flask>=0.8->flask-ngrok) (1.0.1)\n",
            "Requirement already satisfied: itsdangerous>=0.24 in /usr/local/lib/python3.6/dist-packages (from Flask>=0.8->flask-ngrok) (1.1.0)\n",
            "Requirement already satisfied: click>=5.1 in /usr/local/lib/python3.6/dist-packages (from Flask>=0.8->flask-ngrok) (7.1.2)\n",
            "Requirement already satisfied: MarkupSafe>=0.23 in /usr/local/lib/python3.6/dist-packages (from Jinja2>=2.10.1->Flask>=0.8->flask-ngrok) (1.1.1)\n"
          ],
          "name": "stdout"
        }
      ]
    },
    {
      "cell_type": "code",
      "metadata": {
        "id": "oHJRPqLAtcQa",
        "outputId": "b4302027-cb71-496c-97ab-94184e9908fe",
        "colab": {
          "base_uri": "https://localhost:8080/"
        }
      },
      "source": [
        "#Flask constructor \n",
        "app = Flask(__name__)\n",
        "\n",
        "#Flask extension that registers a UUID converter for urls on a Flask application\n",
        "FlaskUUID(app)"
      ],
      "execution_count": 4,
      "outputs": [
        {
          "output_type": "execute_result",
          "data": {
            "text/plain": [
              "<flask_uuid.FlaskUUID at 0x7f3446bf29b0>"
            ]
          },
          "metadata": {
            "tags": []
          },
          "execution_count": 4
        }
      ]
    },
    {
      "cell_type": "code",
      "metadata": {
        "id": "eWq7SoXc9Rw1"
      },
      "source": [
        "#Use ngrok http tunnel\n",
        "run_with_ngrok(app) "
      ],
      "execution_count": 5,
      "outputs": []
    },
    {
      "cell_type": "code",
      "metadata": {
        "id": "0BI9XqEZ5Y9W"
      },
      "source": [
        "#Queue accessible to different workers\n",
        "q = multiprocessing.Manager().Queue()\n",
        "pid_dict = {}"
      ],
      "execution_count": 6,
      "outputs": []
    },
    {
      "cell_type": "code",
      "metadata": {
        "id": "IXIfQMy2OF_6"
      },
      "source": [
        "#This function extracts image URLs from a list of base URLs and from their\n",
        "#immediate children (i.e., until the second level of websites)\n",
        "#It could be improved by allowing the number_of_levels to crawl as parameter. \n",
        "def crawl_image_urls(base_url_list, uuid, queue): \n",
        "\n",
        "    #setting the pid    \n",
        "    pid = os.getpid()\n",
        "    #print(\"Executing task on process {}\".format(pid))       \n",
        "    queue.put((uuid, pid))    \n",
        "\n",
        "    #this will store the image urls\n",
        "    img_url_list = []    \n",
        "\n",
        "    #extracting all the images found in base_url\n",
        "    for base_url in base_url_list:       \n",
        "\n",
        "        resp = requests.get(base_url)\n",
        "\n",
        "        #using Beautiful Soup as HTML parser\n",
        "        soup = BeautifulSoup(resp.content, \"html.parser\")\n",
        "        \n",
        "        #extracting all img links from base_url\n",
        "        BASE_IMAGES = soup.find_all(\"img\")  \n",
        "\n",
        "        for img in BASE_IMAGES:    \n",
        "            #making the URL absolute by joining base_url with img_url\n",
        "            img_url = urljoin(base_url, img.attrs.get(\"src\")) \n",
        "            img_url_list.append(img_url)                   \n",
        "\n",
        "        #getting children_img_urls \n",
        "        children_img_urls = crawl_children_image_urls(base_url)\n",
        "        \n",
        "        #updating the list with children_img_urls\n",
        "        img_url_list.append(children_img_urls)\n",
        "\n",
        "    return (img_url_list)"
      ],
      "execution_count": 7,
      "outputs": []
    },
    {
      "cell_type": "code",
      "metadata": {
        "id": "E6S899yp7NSl"
      },
      "source": [
        "#Given a base_url, this function finds imediate children websites\n",
        "#and extracts image URLs from them.\n",
        "#It returns a list of image URLs.\n",
        "def crawl_children_image_urls(base_url): \n",
        "\n",
        "    #extracting all the URLs found in base_url, that is, it's immediate children\n",
        "    resp = requests.get(base_url)\n",
        "    soup = BeautifulSoup(resp.content, \"html.parser\")\n",
        "    CHILDREN_URLS = soup.find_all(\"a\")\n",
        "\n",
        "    #this will store the image urls\n",
        "    img_url_list = []\n",
        "\n",
        "    #not employed in this application\n",
        "    #next_level_url_list = []\n",
        "\n",
        "    #extracting all the images found in child_url\n",
        "    for child_url in CHILDREN_URLS:\n",
        "       \n",
        "        try:\n",
        "            url = child_url.get('href') #this request can fail due to MissingSchema\n",
        "            \n",
        "            child_resp = requests.get(url)\n",
        "            \n",
        "            #making a child soup! :D\n",
        "            child_soup = BeautifulSoup(child_resp.content, \"html.parser\")      \n",
        "            CHILD_IMAGES = child_soup.find_all(\"img\")      \n",
        "\n",
        "            for img in CHILD_IMAGES:    \n",
        "                #making the URL absolute by joining base_url with img_url\n",
        "                img_url = urljoin(url, img.attrs.get(\"src\"))\n",
        "                img_url_list.append(img_url)   \n",
        "     \n",
        "            #getting the next level of websites\n",
        "            #NEXT_LEVEL_URLS = child_soup.find_all(\"a\")\n",
        "            #next_level_url_list.append(NEXT_LEVEL_URLS)\n",
        "           \n",
        "        except ValueError:\n",
        "            pass          \n",
        "       \n",
        "        #return (img_url_list, next_level_url_list)\n",
        "        return (img_url_list)"
      ],
      "execution_count": 8,
      "outputs": []
    },
    {
      "cell_type": "code",
      "metadata": {
        "id": "i_dE3Mho-Kec"
      },
      "source": [
        "#This function supports max_threads = 1 or max_threads = len(url_list)\n",
        "#I'm employing the word *thread*, but I'm actually using a ProcessPoolExecutor\n",
        "#from the library concurrent.futures. \n",
        "#A ThreadPoolExecutor is also available in concurrent.futures, however I found \n",
        "#ProcessPoolExecutor easier, and I had to make a quick choice.\n",
        "#When max_threads = len(url_list), it submitts each url to a different task.\n",
        "#When max_threads = 1, it submitts all urls to the same task.     \n",
        "#curl -X POST http://93373074171c.ngrok.io/ -H \"Content-Type: application/json\"\n",
        "#--data \"[\\\"http://4chan.org/\\\", \\\"https://golang.org/\\\"]\"\n",
        "@app.route('/<int:max_threads>', methods=['POST'])\n",
        "def crawl_image_urls_concurrent(max_threads):    \n",
        " \n",
        "    url_list = request.json\n",
        "\n",
        "    if max_threads > 1:\n",
        "        n_tasks = len(url_list)\n",
        "    else:\n",
        "        n_tasks = 1 \n",
        "\n",
        "    futures = [] \n",
        "    json_dumps = []\n",
        "    \n",
        "    with concurrent.futures.ProcessPoolExecutor(max_workers=n_tasks) as executor:\n",
        "        \n",
        "        #submitting each url to a different task        \n",
        "        if n_tasks == len(url_list):\n",
        "            t = 1;\n",
        "            for url in url_list:\n",
        "                u = uuid.uuid4()            \n",
        "                f = executor.submit(crawl_image_urls, [url], u, q)            \n",
        "                futures.append(f)   \n",
        "                pid_dict[u] = [f, None] # PID not known here      \n",
        "                jd = json.dumps({\"job_id\": str(u), \"task\": str(t), \"url\": url})\n",
        "                print(jd)\n",
        "                json_dumps.append(jd)\n",
        "                t = t + 1  \n",
        "\n",
        "                try:\n",
        "                    rcv_uuid, rcv_pid = q.get(block=True, timeout=1)\n",
        "                    pid_dict[rcv_uuid] = [f, rcv_pid] # store PID\n",
        "                except queue.Empty as e:\n",
        "                    print('Queue is empty', e)         \n",
        "        \n",
        "        #submitting all urls at once (all to the same task)\n",
        "        elif n_tasks == 1:\n",
        "            u = uuid.uuid4()                                \n",
        "            f = executor.submit(crawl_image_urls, url_list, u, q)            \n",
        "            futures.append(f) \n",
        "            pid_dict[u] = [f, None] # PID not known here       \n",
        "            jd = json.dumps({\"job_id\": str(u), \"task\": \"1\", \"urls\": url_list})\n",
        "            print(jd)\n",
        "            json_dumps.append(jd)\n",
        "            try:\n",
        "                rcv_uuid, rcv_pid = q.get(block=True, timeout=1)\n",
        "                pid_dict[rcv_uuid] = [f, rcv_pid] # store PID\n",
        "            except queue.Empty as e:\n",
        "                print('Queue is empty', e)  \n",
        "\n",
        "    return jsonify(json_dumps), 200"
      ],
      "execution_count": 9,
      "outputs": []
    },
    {
      "cell_type": "code",
      "metadata": {
        "id": "F9c8stdlWEqq"
      },
      "source": [
        "#This function outputs the status of a task, given it's job_id (uuid). \n",
        "#Because of my previous choices,  \n",
        "#if we've chosen to use thread=1 for crawling multiple URLs, \n",
        "#we are unable to see the crawling progress of each URL separately.\n",
        "#The status is given for the whole process.\n",
        "#curl -X GET http://93373074171c.ngrok.io/status/0d7fbd8d-2d19-401b-920d-859735c4499a\n",
        "@app.route('/status/<uuid(strict=False):u>', methods=['GET'])\n",
        "def get_job_status(u):    \n",
        "    try: \n",
        "        #_uuid_ = uuid.UUID(u) \n",
        "        _uuid_ = u      \n",
        "        [futures, pid] = pid_dict[_uuid_]\n",
        "        if futures.running():\n",
        "            return json.dumps({\"job_id\": str(_uuid_), \"status\": \"inprogress\"}) \n",
        "        elif futures.done():  \n",
        "            return json.dumps({\"job_id\": str(_uuid_), \"status\": \"completed\"})\n",
        "        else:\n",
        "            return json.dumps({\"job_id\": str(_uuid_), \"status\": str(futures)})  \n",
        "    except KeyError:\n",
        "        print('Key not found')      \n",
        "    except ValueError:\n",
        "        print('UUID not found')      "
      ],
      "execution_count": 10,
      "outputs": []
    },
    {
      "cell_type": "code",
      "metadata": {
        "id": "So56XUtcYFgp"
      },
      "source": [
        "#Given a job_id (uuid), this function returns it's corresponding crawled image URLs\n",
        "#curl -X GET http://93373074171c.ngrok.io/result/0d7fbd8d-2d19-401b-920d-859735c4499a\n",
        "@app.route('/result/<uuid(strict=False):u>', methods=['GET'])\n",
        "def get_results(u): \n",
        "    try: \n",
        "        #_uuid_ = uuid.UUID(u) \n",
        "        _uuid_ = u      \n",
        "        [futures, pid] = pid_dict[_uuid_]\n",
        "        return json.dumps({\"job_id\": str(_uuid_), \"result\": futures.result()})        \n",
        "    except KeyError:\n",
        "        print('Key not found')      \n",
        "    except ValueError:\n",
        "        print('UUID not found')  "
      ],
      "execution_count": 11,
      "outputs": []
    },
    {
      "cell_type": "code",
      "metadata": {
        "id": "ilrn-35rUL4X"
      },
      "source": [
        "#Flask error handlers\n",
        "@app.errorhandler(404)\n",
        "def not_found(error):\n",
        "    return make_response(jsonify({'error': 'Not found'}), 404)\n",
        "@app.errorhandler(400)\n",
        "def not_found(error):\n",
        "    return make_response(jsonify({'error': 'Bad Request'}), 400)\n",
        "@app.errorhandler(500)\n",
        "def not_found(error):\n",
        "    return make_response(jsonify({'error': 'Internal Server Error'}), 500)"
      ],
      "execution_count": 12,
      "outputs": []
    },
    {
      "cell_type": "code",
      "metadata": {
        "id": "eTBv8nXK9apH",
        "outputId": "0546e06d-ac2c-49be-84cc-9de445285d6c",
        "colab": {
          "base_uri": "https://localhost:8080/"
        }
      },
      "source": [
        "if __name__ == '__main__':    \n",
        "    app.run() \n",
        "#Then, open a shell window and run curl commands using the ngrok http tunnel that will appear below http://127.0.0.1\n",
        "#Examples:\n",
        "#Posting URLs using 1 single task:\n",
        "#curl -X POST http://b4098711e066.ngrok.io/1 -H \"Content-Type: application/json\" -d \"[\\\"http://4chan.org/\\\", \\\"https://golang.org/\\\"]\"\n",
        "#\n",
        "#Posting URLs using 2 paralell tasks:\n",
        "#curl -X POST http://b4098711e066.ngrok.io/2 -H \"Content-Type: application/json\" -d \"[\\\"http://4chan.org/\\\", \\\"https://golang.org/\\\"]\"\n",
        "#\n",
        "#Getting the status of a task:\n",
        "#curl -X GET http://96ef6a5a14e0.ngrok.io/status/c426926b-64df-4417-8cb8-59f719c41ef1\n",
        "#\n",
        "#Getting the result of a task:\n",
        "#curl -X GET http://96ef6a5a14e0.ngrok.io/result/c426926b-64df-4417-8cb8-59f719c41ef1"
      ],
      "execution_count": 13,
      "outputs": [
        {
          "output_type": "stream",
          "text": [
            " * Serving Flask app \"__main__\" (lazy loading)\n",
            " * Environment: production\n",
            "\u001b[31m   WARNING: This is a development server. Do not use it in a production deployment.\u001b[0m\n",
            "\u001b[2m   Use a production WSGI server instead.\u001b[0m\n",
            " * Debug mode: off\n"
          ],
          "name": "stdout"
        },
        {
          "output_type": "stream",
          "text": [
            " * Running on http://127.0.0.1:5000/ (Press CTRL+C to quit)\n"
          ],
          "name": "stderr"
        },
        {
          "output_type": "stream",
          "text": [
            " * Running on http://514c610f2191.ngrok.io\n",
            " * Traffic stats available on http://127.0.0.1:4040\n"
          ],
          "name": "stdout"
        },
        {
          "output_type": "stream",
          "text": [
            "127.0.0.1 - - [07/Oct/2020 16:11:09] \"\u001b[31m\u001b[1mPOST /2 HTTP/1.1\u001b[0m\" 400 -\n"
          ],
          "name": "stderr"
        },
        {
          "output_type": "stream",
          "text": [
            "{\"job_id\": \"687b4488-63c8-4eca-ab14-6bcef301fbb8\", \"task\": \"1\", \"url\": \"http://4chan.org/\"}\n",
            "{\"job_id\": \"c6660667-89d9-40c7-a807-e12a1c958757\", \"task\": \"2\", \"url\": \"https://golang.org/\"}\n"
          ],
          "name": "stdout"
        },
        {
          "output_type": "stream",
          "text": [
            "127.0.0.1 - - [07/Oct/2020 16:13:17] \"\u001b[37mPOST /2 HTTP/1.1\u001b[0m\" 200 -\n"
          ],
          "name": "stderr"
        },
        {
          "output_type": "stream",
          "text": [
            "{\"job_id\": \"229995d9-d42f-495d-8ee4-f2e62442a53a\", \"task\": \"1\", \"urls\": [\"http://4chan.org/\", \"https://golang.org/\"]}\n"
          ],
          "name": "stdout"
        },
        {
          "output_type": "stream",
          "text": [
            "127.0.0.1 - - [07/Oct/2020 16:13:27] \"\u001b[37mPOST /1 HTTP/1.1\u001b[0m\" 200 -\n",
            "127.0.0.1 - - [07/Oct/2020 16:14:28] \"\u001b[37mGET /status/229995d9-d42f-495d-8ee4-f2e62442a53a HTTP/1.1\u001b[0m\" 200 -\n",
            "127.0.0.1 - - [07/Oct/2020 16:14:35] \"\u001b[37mGET /result/229995d9-d42f-495d-8ee4-f2e62442a53a HTTP/1.1\u001b[0m\" 200 -\n"
          ],
          "name": "stderr"
        }
      ]
    }
  ]
}